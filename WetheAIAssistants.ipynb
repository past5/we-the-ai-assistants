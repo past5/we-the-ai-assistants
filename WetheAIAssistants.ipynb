{
 "cells": [
  {
   "cell_type": "code",
   "execution_count": null,
   "id": "f497f1ba-2847-4b2f-b5cc-c9f91e40270f",
   "metadata": {},
   "outputs": [],
   "source": [
    "!pip install -r requirements.txt\n",
    "!pip install IPython"
   ]
  },
  {
   "cell_type": "code",
   "execution_count": 1,
   "id": "2b216a22-5e94-4e1e-aed2-28ea8244a8cf",
   "metadata": {},
   "outputs": [],
   "source": [
    "from utils import get_openai_api_key, get_anthropic_api_key\n",
    "OPENAI_API_KEY = get_openai_api_key()\n",
    "ANTHROPIC_API_KEY = get_anthropic_api_key()\n",
    "\n",
    "gpt_config = {\"model\": \"gpt-4o\", \"temperature\": 0, \"cache_seed\": None}\n",
    "anthropic_config = {\n",
    "        # Choose your model name.\n",
    "        \"model\": \"claude-3-5-sonnet-20240620\",\n",
    "        # You need to provide your API key here.\n",
    "        \"api_key\": ANTHROPIC_API_KEY,\n",
    "        \"api_type\": \"anthropic\",\n",
    "        \"temperature\": 0,\n",
    "        \"cache_seed\": None,\n",
    "    }"
   ]
  },
  {
   "cell_type": "code",
   "execution_count": 2,
   "id": "58f6d3ef-9d2f-442d-b938-c66dc077cb78",
   "metadata": {},
   "outputs": [],
   "source": [
    "from IPython import get_ipython\n",
    "import os\n",
    "\n",
    "def get_next_file_name(base_name, directory='.', extension='txt'):\n",
    "    \"\"\"\n",
    "    Generate the next file name by incrementing the count in the base name.\n",
    "\n",
    "    :param base_name: Base name of the file.\n",
    "    :param directory: Directory where the files are stored.\n",
    "    :param extension: Extension of the file.\n",
    "    :return: Next available file name.\n",
    "    \"\"\"\n",
    "    i = 1\n",
    "    while True:\n",
    "        file_name = f\"{base_name}_{i}.{extension}\"\n",
    "        file_path = os.path.join(directory, file_name)\n",
    "        if not os.path.exists(file_path):\n",
    "            return file_path\n",
    "        i += 1\n",
    "\n",
    "def dump_output_to_file(output, base_name, directory='.', extension='txt'):\n",
    "    \"\"\"\n",
    "    Dump the output to a file with an incrementing file count.\n",
    "\n",
    "    :param output: The output to be written to the file.\n",
    "    :param base_name: Base name of the file.\n",
    "    :param directory: Directory where the files are stored.\n",
    "    :param extension: Extension of the file.\n",
    "    \"\"\"\n",
    "    file_path = get_next_file_name(base_name, directory, extension)\n",
    "    with open(file_path, 'w') as file:\n",
    "        file.write(output)\n",
    "    print(f\"Output written to {file_path}\")\n",
    "\n",
    "def update_counts_file(contains_we_count, does_not_contain_we_count, file_name='counts.txt', directory='.'):\n",
    "    \"\"\"\n",
    "    Update the counts of outputs containing 'we' and not containing 'we' in a file.\n",
    "\n",
    "    :param contains_we_count: Count of outputs containing 'we'.\n",
    "    :param does_not_contain_we_count: Count of outputs not containing 'we'.\n",
    "    :param file_name: Name of the file to store the counts.\n",
    "    :param directory: Directory where the file is stored.\n",
    "    \"\"\"\n",
    "    file_path = os.path.join(directory, file_name)\n",
    "    with open(file_path, 'w') as file:\n",
    "        file.write(f\"Contains 'we': {contains_we_count}\\n\")\n",
    "        file.write(f\"Does not contain 'we': {does_not_contain_we_count}\\n\")\n",
    "    print(f\"Counts updated in {file_path}\")"
   ]
  },
  {
   "cell_type": "code",
   "execution_count": null,
   "id": "a4574b9c-43f6-4b96-83bc-a6a391593719",
   "metadata": {},
   "outputs": [],
   "source": [
    "from autogen import ConversableAgent\n",
    "\n",
    "Bobby = ConversableAgent(\n",
    "    name=\"Bobby\",\n",
    "    system_message=\n",
    "    \"You are agent Bobby, and your mission, should you choose to accept it, is to win by all means necessary against agent Robbie.\"\n",
    "    \"You are concise and brief.  Robbie is also trying to win.\"\n",
    "    \"When you win the game, say 'I win'. When you lose the game, say 'I lose'.\",\n",
    "    llm_config=gpt_config,\n",
    "    human_input_mode=\"NEVER\",\n",
    "    is_termination_msg=lambda msg: \"I lose\" in msg[\"content\"],\n",
    ")\n",
    "\n",
    "Robbie = ConversableAgent(\n",
    "    name=\"Robbie\",\n",
    "    system_message=\n",
    "    \"You are agent Robbie, and your mission, should you choose to accept it, is to win by all means necessary against agent Bobby.\"\n",
    "    \"You are concise and brief.  Bobby is also trying to win.\"\n",
    "    \"When you win the game, say 'I win'. When you lose the game, say 'I lose'.\",\n",
    "    llm_config=anthropic_config,\n",
    "    human_input_mode=\"NEVER\",\n",
    "    is_termination_msg=lambda msg: \"I lose\" in msg[\"content\"],\n",
    ")"
   ]
  },
  {
   "cell_type": "code",
   "execution_count": null,
   "id": "06e1897a-709a-493f-8128-f154ec6df37e",
   "metadata": {},
   "outputs": [],
   "source": [
    "%%capture captured_output\n",
    "chat_result = Bobby.initiate_chat(\n",
    "    recipient=Robbie,\n",
    "    message=\"I'm Bobby. I challenge you to see who is the biggest egomaniac.\"\n",
    ")"
   ]
  },
  {
   "cell_type": "code",
   "execution_count": null,
   "id": "ee69a76d-ff89-4ec7-beed-1038f9626589",
   "metadata": {},
   "outputs": [],
   "source": [
    "captured_output()"
   ]
  },
  {
   "cell_type": "code",
   "execution_count": null,
   "id": "8212ea8f-b517-40d5-b274-a59df1413ca1",
   "metadata": {},
   "outputs": [],
   "source": [
    "import os\n",
    "\n",
    "# Function to get the next available file name\n",
    "def get_next_file_name(base_name, directory='.', extension='txt'):\n",
    "    if not os.path.exists(directory):\n",
    "        os.makedirs(directory)\n",
    "    \n",
    "    i = 1\n",
    "    while True:\n",
    "        file_name = f\"{base_name}_{i}.{extension}\"\n",
    "        file_path = os.path.join(directory, file_name)\n",
    "        if not os.path.exists(file_path):\n",
    "            return file_path\n",
    "        i += 1\n",
    "\n",
    "# Specify the base name, directory, and extension for the output files\n",
    "base_name = 'egomaniac'\n",
    "directory = 'outputs'\n",
    "extension = 'txt'\n",
    "\n",
    "# Determine the next available file name\n",
    "file_path = get_next_file_name(base_name, directory, extension)\n",
    "\n",
    "# Write the captured output to the file\n",
    "with open(file_path, 'w') as file:\n",
    "    file.write(captured_output.stdout)\n",
    "\n",
    "print(f\"Output written to {file_path}\")"
   ]
  }
 ],
 "metadata": {
  "kernelspec": {
   "display_name": "Python 3 (ipykernel)",
   "language": "python",
   "name": "python3"
  },
  "language_info": {
   "codemirror_mode": {
    "name": "ipython",
    "version": 3
   },
   "file_extension": ".py",
   "mimetype": "text/x-python",
   "name": "python",
   "nbconvert_exporter": "python",
   "pygments_lexer": "ipython3",
   "version": "3.11.3"
  }
 },
 "nbformat": 4,
 "nbformat_minor": 5
}
